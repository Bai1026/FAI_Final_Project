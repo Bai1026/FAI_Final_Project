{
 "cells": [
  {
   "cell_type": "code",
   "execution_count": null,
   "metadata": {},
   "outputs": [],
   "source": [
    "import matplotlib.pyplot as plt\n",
    "import seaborn as sns\n",
    "import numpy as np\n",
    "from treys import Evaluator, Card\n",
    "\n",
    "# 初始化評估器\n",
    "evaluator = Evaluator()\n",
    "\n",
    "# 創建一個13x13的矩陣來存儲勝率\n",
    "win_rates = np.zeros((13, 13))\n",
    "\n",
    "# 所有的牌值和花色\n",
    "values = '23456789TJQKA'\n",
    "suits = 'shdc'\n",
    "\n",
    "# 對每個起手牌組合進行計算\n",
    "for i, v1 in enumerate(values):\n",
    "    for j, v2 in enumerate(values):\n",
    "        if i < j:  # 同花\n",
    "            hand = [Card.new(v1 + suits[0]), Card.new(v2 + suits[0])]\n",
    "        elif i > j:  # 不同花\n",
    "            hand = [Card.new(v1 + suits[0]), Card.new(v2 + suits[1])]\n",
    "        else:\n",
    "            win_rates[i, j] = np.nan\n",
    "            continue\n",
    "\n",
    "        # 模擬多次對局來計算平均勝率\n",
    "        wins = 0\n",
    "        trials = 1000\n",
    "        for _ in range(trials):\n",
    "            board = [Card.new(v + suits[0]) for v in np.random.choice(values, 5)]\n",
    "            opponent_hand = [Card.new(v + suits[1]) for v in np.random.choice(values, 2)]\n",
    "            if evaluator.evaluate(board, hand) < evaluator.evaluate(board, opponent_hand):\n",
    "                wins += 1\n",
    "\n",
    "        win_rates[i, j] = wins / trials\n",
    "\n",
    "# 繪製熱圖\n",
    "fig, ax = plt.subplots(figsize=(10, 10))\n",
    "sns.heatmap(win_rates, annot=True, fmt=\".2f\", cmap=\"RdYlGn\", xticklabels=values, yticklabels=values, ax=ax)\n",
    "plt.title('Preflop Win Rates')\n",
    "plt.xlabel('Card 1')\n",
    "plt.ylabel('Card 2')\n",
    "plt.show()\n"
   ]
  },
  {
   "cell_type": "code",
   "execution_count": null,
   "metadata": {},
   "outputs": [],
   "source": []
  }
 ],
 "metadata": {
  "kernelspec": {
   "display_name": "poker",
   "language": "python",
   "name": "python3"
  },
  "language_info": {
   "name": "python",
   "version": "3.8.13"
  }
 },
 "nbformat": 4,
 "nbformat_minor": 2
}
